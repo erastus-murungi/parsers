{
 "cells": [
  {
   "cell_type": "markdown",
   "source": [
    "Computational of $FIRST_k$ and $FOLLOW_k$ sets.\n",
    "\n",
    "*complete(A, k)*: Check if a sequence of terminals $A$ is complete, i.e. if it contains the end-of-input marker, or if it has a length of $k$.\n",
    "\n",
    "We first need to define an operator $\\mathbin\\Vert_k$. Let $A$ and $B$ be two sequences of terminals with a maximum length of $k$. Then $A \\mathbin\\Vert_k B$ is defined as follows:\n",
    "\n",
    "$$\n",
    "A \\mathbin\\Vert_k B = \\left\\{\n",
    "    \\begin{array}\\\\\n",
    "        B & \\mbox{if } \\ A = \\epsilon \\\\\n",
    "        A & \\mbox{if } \\ B = \\epsilon\\\\\n",
    "        A & \\mbox{complete(A, k) } \\\\\n",
    "        -2 & \\mbox{else.}\n",
    "    \\end{array}\n",
    "\\right.\n",
    "$$\n",
    "\n",
    "For instance let $A_1 = ab, B_1 = bc$, then:\n",
    "$\n",
    "    A_1 \\mathbin\\Vert_3 B_1 = abb \\\\\n",
    "\n",
    "    A_1 \\mathbin\\Vert_2 B_1 = ab \\\\\n",
    "\n",
    "    A_1 \\mathbin\\Vert_1 B_1 = \\text{error}(\"|A_1| > 1\")\n",
    "$\n",
    "\n",
    "let $A_2 = a\\$$, $B_2 = b$"
   ],
   "metadata": {
    "collapsed": false
   }
  },
  {
   "cell_type": "code",
   "execution_count": null,
   "outputs": [],
   "source": [],
   "metadata": {
    "collapsed": false,
    "pycharm": {
     "is_executing": true
    }
   }
  },
  {
   "cell_type": "code",
   "execution_count": null,
   "outputs": [],
   "source": [],
   "metadata": {
    "collapsed": false
   }
  }
 ],
 "metadata": {
  "kernelspec": {
   "display_name": "Python 3",
   "language": "python",
   "name": "python3"
  },
  "language_info": {
   "codemirror_mode": {
    "name": "ipython",
    "version": 2
   },
   "file_extension": ".py",
   "mimetype": "text/x-python",
   "name": "python",
   "nbconvert_exporter": "python",
   "pygments_lexer": "ipython2",
   "version": "2.7.6"
  }
 },
 "nbformat": 4,
 "nbformat_minor": 0
}
